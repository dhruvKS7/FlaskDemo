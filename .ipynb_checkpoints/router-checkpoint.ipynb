{
 "cells": [
  {
   "cell_type": "code",
   "execution_count": 2,
   "id": "45ddaab2",
   "metadata": {},
   "outputs": [],
   "source": [
    "from ipynb.fs.full.functions import list2parameter"
   ]
  },
  {
   "cell_type": "code",
   "execution_count": 3,
   "id": "0fe5fd93",
   "metadata": {},
   "outputs": [
    {
     "name": "stderr",
     "output_type": "stream",
     "text": [
      "WARNING: This is a development server. Do not use it in a production deployment. Use a production WSGI server instead.\n",
      " * Running on http://localhost:8080\n",
      "Press CTRL+C to quit\n",
      "127.0.0.1 - - [29/Mar/2025 00:44:44] \"GET / HTTP/1.1\" 200 -\n",
      "127.0.0.1 - - [29/Mar/2025 00:44:44] \"GET /static/styling.css HTTP/1.1\" 304 -\n",
      "127.0.0.1 - - [29/Mar/2025 00:44:48] \"POST /submit HTTP/1.1\" 302 -\n",
      "127.0.0.1 - - [29/Mar/2025 00:44:48] \"GET /output/Dhruv%20Simpson,Dhruv,Simpson HTTP/1.1\" 200 -\n",
      "127.0.0.1 - - [29/Mar/2025 00:44:48] \"GET /static/styling.css HTTP/1.1\" 304 -\n",
      "127.0.0.1 - - [29/Mar/2025 00:44:49] \"POST /returner HTTP/1.1\" 302 -\n",
      "127.0.0.1 - - [29/Mar/2025 00:44:49] \"GET / HTTP/1.1\" 200 -\n",
      "127.0.0.1 - - [29/Mar/2025 00:44:49] \"GET /static/styling.css HTTP/1.1\" 304 -\n",
      "127.0.0.1 - - [29/Mar/2025 00:44:52] \"POST /submit HTTP/1.1\" 302 -\n",
      "127.0.0.1 - - [29/Mar/2025 00:44:52] \"GET /output/test%202,test,2 HTTP/1.1\" 200 -\n",
      "127.0.0.1 - - [29/Mar/2025 00:44:52] \"GET /static/styling.css HTTP/1.1\" 304 -\n",
      "127.0.0.1 - - [29/Mar/2025 00:44:55] \"POST /returner HTTP/1.1\" 302 -\n",
      "127.0.0.1 - - [29/Mar/2025 00:44:55] \"GET / HTTP/1.1\" 200 -\n",
      "127.0.0.1 - - [29/Mar/2025 00:44:55] \"GET /static/styling.css HTTP/1.1\" 304 -\n",
      "127.0.0.1 - - [29/Mar/2025 00:45:57] \"POST /submit HTTP/1.1\" 302 -\n",
      "127.0.0.1 - - [29/Mar/2025 00:45:57] \"GET /output/%20,, HTTP/1.1\" 200 -\n",
      "127.0.0.1 - - [29/Mar/2025 00:45:57] \"GET /static/styling.css HTTP/1.1\" 304 -\n",
      "127.0.0.1 - - [29/Mar/2025 00:45:58] \"POST /returner HTTP/1.1\" 302 -\n",
      "127.0.0.1 - - [29/Mar/2025 00:45:58] \"GET / HTTP/1.1\" 200 -\n",
      "127.0.0.1 - - [29/Mar/2025 00:45:58] \"GET /static/styling.css HTTP/1.1\" 304 -\n"
     ]
    }
   ],
   "source": [
    "# basic imports, just like you would normally use in a python file\n",
    "from werkzeug.wrappers import Request, Response\n",
    "from flask import Flask, render_template, request, url_for, flash, redirect\n",
    "\n",
    "# this sets up your flask app - you can treat this and the above imports and basic starter syntax\n",
    "# that you will always use anytime you want to create a new flask app\n",
    "app = Flask(__name__)\n",
    "app.config['SECRET_KEY'] = 'superdupersecretkeythatnobodywouldeverguess'\n",
    "\n",
    "# this app.route handles the index.html page - most other routes will require a specific file name,\n",
    "# but since index is the \"base\" of your application, it goes without an identifier\n",
    "@app.route(\"/\", methods=('GET', 'POST'))\n",
    "# creating a method below to handle any requests made to the index page\n",
    "def index():\n",
    "    # loading an html page\n",
    "    return render_template('index.html')\n",
    "\n",
    "@app.route(\"/submit\", methods=('GET', 'POST'))\n",
    "def submit():\n",
    "    if request.method == 'POST':\n",
    "        # getting data from the frontend\n",
    "        firstname = str(request.form.get(\"firstname\"))\n",
    "        lastname = str(request.form.get(\"lastname\"))\n",
    "        input_list = [firstname + \" \" + lastname, firstname, lastname]\n",
    "        # executing manipulations / taking advantage of Python backend\n",
    "        output = list2parameter(input_list)\n",
    "        # redirecting to another route\n",
    "        return redirect(url_for('output', input_list=output))\n",
    "\n",
    "@app.route(\"/output/<input_list>\", methods=('GET', 'POST'))\n",
    "def output(input_list):\n",
    "    # splitting input\n",
    "    input_list = input_list.split(',')\n",
    "    # loading an html page\n",
    "    return render_template('output.html', output_list=input_list)\n",
    "\n",
    "@app.route(\"/returner\", methods=('GET', 'POST'))\n",
    "def returner():\n",
    "    if request.method == 'POST':\n",
    "        # redirecting to another route\n",
    "        return redirect(url_for('index'))\n",
    "\n",
    "# this snippet of code is another syntactical inclusion - it's not as important to understand everything\n",
    "# that's happening here, but it essentially decides where your flask app is going to run on the local device\n",
    "if __name__ == '__main__':\n",
    "    from werkzeug.serving import run_simple\n",
    "\n",
    "    # the \"8080\" means that the flask app will run on http://localhost:8080/\n",
    "    # you can change this to any other viable port if 8080 is currently in use\n",
    "    # for example, you can change the line below to read \"run_simple('localhost', 9000, app)\", and then\n",
    "    # access the flask app through http://localhost:9000/ - the port is completely changeable and\n",
    "    # does not affect your code at all beyond where you access it from\n",
    "    run_simple('localhost', 8080, app)"
   ]
  },
  {
   "cell_type": "code",
   "execution_count": null,
   "id": "bc9b219f",
   "metadata": {},
   "outputs": [],
   "source": []
  }
 ],
 "metadata": {
  "kernelspec": {
   "display_name": "Python 3 (ipykernel)",
   "language": "python",
   "name": "python3"
  },
  "language_info": {
   "codemirror_mode": {
    "name": "ipython",
    "version": 3
   },
   "file_extension": ".py",
   "mimetype": "text/x-python",
   "name": "python",
   "nbconvert_exporter": "python",
   "pygments_lexer": "ipython3",
   "version": "3.8.8"
  }
 },
 "nbformat": 4,
 "nbformat_minor": 5
}
