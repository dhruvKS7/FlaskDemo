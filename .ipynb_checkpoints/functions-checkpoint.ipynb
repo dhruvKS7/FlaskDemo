{
 "cells": [
  {
   "cell_type": "code",
   "execution_count": 2,
   "id": "9e8e6381",
   "metadata": {},
   "outputs": [],
   "source": [
    "def list2parameter(input_list):\n",
    "        output = \"\"\n",
    "        for i in input_list:\n",
    "            output += i + \",\"\n",
    "        output = output[:-1]\n",
    "        return output"
   ]
  },
  {
   "cell_type": "code",
   "execution_count": null,
   "id": "2ade23f0",
   "metadata": {},
   "outputs": [],
   "source": []
  }
 ],
 "metadata": {
  "kernelspec": {
   "display_name": "Python 3 (ipykernel)",
   "language": "python",
   "name": "python3"
  },
  "language_info": {
   "codemirror_mode": {
    "name": "ipython",
    "version": 3
   },
   "file_extension": ".py",
   "mimetype": "text/x-python",
   "name": "python",
   "nbconvert_exporter": "python",
   "pygments_lexer": "ipython3",
   "version": "3.8.8"
  }
 },
 "nbformat": 4,
 "nbformat_minor": 5
}
